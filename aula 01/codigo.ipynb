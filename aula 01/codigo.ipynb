{
 "cells": [
  {
   "cell_type": "code",
   "execution_count": 5,
   "metadata": {},
   "outputs": [
    {
     "ename": "SyntaxError",
     "evalue": "invalid syntax (1045782224.py, line 1)",
     "output_type": "error",
     "traceback": [
      "\u001b[1;36m  Cell \u001b[1;32mIn[5], line 1\u001b[1;36m\u001b[0m\n\u001b[1;33m    pip install pandas # instala a biblioteca pandas\u001b[0m\n\u001b[1;37m        ^\u001b[0m\n\u001b[1;31mSyntaxError\u001b[0m\u001b[1;31m:\u001b[0m invalid syntax\n"
     ]
    }
   ],
   "source": [
    "#pip install pandas # instala a biblioteca pandas\n",
    "\n",
    "import pandas as  pd # importa a biblioteca pandas "
   ]
  },
  {
   "cell_type": "code",
   "execution_count": 7,
   "metadata": {},
   "outputs": [
    {
     "name": "stdout",
     "output_type": "stream",
     "text": [
      "Requirement already satisfied: pip in c:\\users\\dsadm\\appdata\\local\\programs\\python\\python311\\lib\\site-packages (23.0.1)\n",
      "Collecting pip\n",
      "  Downloading pip-24.2-py3-none-any.whl (1.8 MB)\n",
      "     ---------------------------------------- 0.0/1.8 MB ? eta -:--:--\n",
      "      --------------------------------------- 0.0/1.8 MB 991.0 kB/s eta 0:00:02\n",
      "     -- ------------------------------------- 0.1/1.8 MB 1.3 MB/s eta 0:00:02\n",
      "     --- ------------------------------------ 0.2/1.8 MB 1.1 MB/s eta 0:00:02\n",
      "     ---- ----------------------------------- 0.2/1.8 MB 1.3 MB/s eta 0:00:02\n",
      "     ------ --------------------------------- 0.3/1.8 MB 1.2 MB/s eta 0:00:02\n",
      "     ------- -------------------------------- 0.3/1.8 MB 1.2 MB/s eta 0:00:02\n",
      "     -------- ------------------------------- 0.4/1.8 MB 1.2 MB/s eta 0:00:02\n",
      "     --------- ------------------------------ 0.4/1.8 MB 1.2 MB/s eta 0:00:02\n",
      "     ----------- ---------------------------- 0.5/1.8 MB 1.2 MB/s eta 0:00:02\n",
      "     ------------ --------------------------- 0.6/1.8 MB 1.2 MB/s eta 0:00:02\n",
      "     ------------- -------------------------- 0.6/1.8 MB 1.2 MB/s eta 0:00:01\n",
      "     --------------- ------------------------ 0.7/1.8 MB 1.2 MB/s eta 0:00:01\n",
      "     ---------------- ----------------------- 0.7/1.8 MB 1.2 MB/s eta 0:00:01\n",
      "     ----------------- ---------------------- 0.8/1.8 MB 1.2 MB/s eta 0:00:01\n",
      "     ------------------ --------------------- 0.8/1.8 MB 1.2 MB/s eta 0:00:01\n",
      "     -------------------- ------------------- 0.9/1.8 MB 1.2 MB/s eta 0:00:01\n",
      "     --------------------- ------------------ 1.0/1.8 MB 1.2 MB/s eta 0:00:01\n",
      "     ---------------------- ----------------- 1.0/1.8 MB 1.2 MB/s eta 0:00:01\n",
      "     ---------------------- ----------------- 1.0/1.8 MB 1.2 MB/s eta 0:00:01\n",
      "     ------------------------ --------------- 1.1/1.8 MB 1.2 MB/s eta 0:00:01\n",
      "     ------------------------- -------------- 1.2/1.8 MB 1.2 MB/s eta 0:00:01\n",
      "     --------------------------- ------------ 1.2/1.8 MB 1.2 MB/s eta 0:00:01\n",
      "     ---------------------------- ----------- 1.3/1.8 MB 1.2 MB/s eta 0:00:01\n",
      "     ----------------------------- ---------- 1.4/1.8 MB 1.2 MB/s eta 0:00:01\n",
      "     ------------------------------ --------- 1.4/1.8 MB 1.2 MB/s eta 0:00:01\n",
      "     -------------------------------- ------- 1.5/1.8 MB 1.2 MB/s eta 0:00:01\n",
      "     --------------------------------- ------ 1.5/1.8 MB 1.2 MB/s eta 0:00:01\n",
      "     ---------------------------------- ----- 1.6/1.8 MB 1.2 MB/s eta 0:00:01\n",
      "     ----------------------------------- ---- 1.6/1.8 MB 1.2 MB/s eta 0:00:01\n",
      "     ------------------------------------- -- 1.7/1.8 MB 1.2 MB/s eta 0:00:01\n",
      "     -------------------------------------- - 1.8/1.8 MB 1.2 MB/s eta 0:00:01\n",
      "     ---------------------------------------  1.8/1.8 MB 1.2 MB/s eta 0:00:01\n",
      "     ---------------------------------------  1.8/1.8 MB 1.2 MB/s eta 0:00:01\n",
      "     ---------------------------------------- 1.8/1.8 MB 1.1 MB/s eta 0:00:00\n",
      "Installing collected packages: pip\n",
      "  Attempting uninstall: pip\n",
      "    Found existing installation: pip 23.0.1\n",
      "    Uninstalling pip-23.0.1:\n",
      "      Successfully uninstalled pip-23.0.1\n",
      "Successfully installed pip-24.2\n",
      "Note: you may need to restart the kernel to use updated packages.\n"
     ]
    }
   ],
   "source": [
    "pip install --upgrade pip\n"
   ]
  },
  {
   "cell_type": "code",
   "execution_count": 19,
   "metadata": {},
   "outputs": [],
   "source": [
    "import pandas as  pd # importa a biblioteca pandas "
   ]
  },
  {
   "cell_type": "code",
   "execution_count": 47,
   "metadata": {},
   "outputs": [],
   "source": [
    "Dicionario={\n",
    "    \"A\":[1,2,3,4,5,6,7],\n",
    "    \"B\":[8,9,10,11,12,13,14],\n",
    "    \"C\":[15,16,17,18,19,20,21],\n",
    "}\n",
    "Labels=[\"1ª linha\",\"2ª linha\",\"3ª linha\",\"4ª linha\",\"5ª linha\",\"6ª linha\",\"7ª linha\"]"
   ]
  },
  {
   "cell_type": "code",
   "execution_count": 48,
   "metadata": {},
   "outputs": [],
   "source": [
    "df= pd.DataFrame(Dicionario,index=Labels) # cria o dataframe com os  valores abaixo\n",
    "#dicionario"
   ]
  },
  {
   "cell_type": "code",
   "execution_count": 49,
   "metadata": {},
   "outputs": [
    {
     "data": {
      "text/html": [
       "<div>\n",
       "<style scoped>\n",
       "    .dataframe tbody tr th:only-of-type {\n",
       "        vertical-align: middle;\n",
       "    }\n",
       "\n",
       "    .dataframe tbody tr th {\n",
       "        vertical-align: top;\n",
       "    }\n",
       "\n",
       "    .dataframe thead th {\n",
       "        text-align: right;\n",
       "    }\n",
       "</style>\n",
       "<table border=\"1\" class=\"dataframe\">\n",
       "  <thead>\n",
       "    <tr style=\"text-align: right;\">\n",
       "      <th></th>\n",
       "      <th>A</th>\n",
       "      <th>B</th>\n",
       "      <th>C</th>\n",
       "    </tr>\n",
       "  </thead>\n",
       "  <tbody>\n",
       "    <tr>\n",
       "      <th>1ª linha</th>\n",
       "      <td>1</td>\n",
       "      <td>8</td>\n",
       "      <td>15</td>\n",
       "    </tr>\n",
       "    <tr>\n",
       "      <th>2ª linha</th>\n",
       "      <td>2</td>\n",
       "      <td>9</td>\n",
       "      <td>16</td>\n",
       "    </tr>\n",
       "    <tr>\n",
       "      <th>3ª linha</th>\n",
       "      <td>3</td>\n",
       "      <td>10</td>\n",
       "      <td>17</td>\n",
       "    </tr>\n",
       "    <tr>\n",
       "      <th>4ª linha</th>\n",
       "      <td>4</td>\n",
       "      <td>11</td>\n",
       "      <td>18</td>\n",
       "    </tr>\n",
       "    <tr>\n",
       "      <th>5ª linha</th>\n",
       "      <td>5</td>\n",
       "      <td>12</td>\n",
       "      <td>19</td>\n",
       "    </tr>\n",
       "  </tbody>\n",
       "</table>\n",
       "</div>"
      ],
      "text/plain": [
       "          A   B   C\n",
       "1ª linha  1   8  15\n",
       "2ª linha  2   9  16\n",
       "3ª linha  3  10  17\n",
       "4ª linha  4  11  18\n",
       "5ª linha  5  12  19"
      ]
     },
     "execution_count": 49,
     "metadata": {},
     "output_type": "execute_result"
    }
   ],
   "source": [
    "df.head() # exibe as primeira 4 linhas do dataframe"
   ]
  },
  {
   "cell_type": "code",
   "execution_count": 50,
   "metadata": {},
   "outputs": [
    {
     "data": {
      "text/html": [
       "<div>\n",
       "<style scoped>\n",
       "    .dataframe tbody tr th:only-of-type {\n",
       "        vertical-align: middle;\n",
       "    }\n",
       "\n",
       "    .dataframe tbody tr th {\n",
       "        vertical-align: top;\n",
       "    }\n",
       "\n",
       "    .dataframe thead th {\n",
       "        text-align: right;\n",
       "    }\n",
       "</style>\n",
       "<table border=\"1\" class=\"dataframe\">\n",
       "  <thead>\n",
       "    <tr style=\"text-align: right;\">\n",
       "      <th></th>\n",
       "      <th>A</th>\n",
       "      <th>B</th>\n",
       "      <th>C</th>\n",
       "    </tr>\n",
       "  </thead>\n",
       "  <tbody>\n",
       "    <tr>\n",
       "      <th>1ª linha</th>\n",
       "      <td>1</td>\n",
       "      <td>8</td>\n",
       "      <td>15</td>\n",
       "    </tr>\n",
       "    <tr>\n",
       "      <th>2ª linha</th>\n",
       "      <td>2</td>\n",
       "      <td>9</td>\n",
       "      <td>16</td>\n",
       "    </tr>\n",
       "  </tbody>\n",
       "</table>\n",
       "</div>"
      ],
      "text/plain": [
       "          A  B   C\n",
       "1ª linha  1  8  15\n",
       "2ª linha  2  9  16"
      ]
     },
     "execution_count": 50,
     "metadata": {},
     "output_type": "execute_result"
    }
   ],
   "source": [
    "df.head(2)"
   ]
  },
  {
   "cell_type": "code",
   "execution_count": 51,
   "metadata": {},
   "outputs": [
    {
     "data": {
      "text/html": [
       "<div>\n",
       "<style scoped>\n",
       "    .dataframe tbody tr th:only-of-type {\n",
       "        vertical-align: middle;\n",
       "    }\n",
       "\n",
       "    .dataframe tbody tr th {\n",
       "        vertical-align: top;\n",
       "    }\n",
       "\n",
       "    .dataframe thead th {\n",
       "        text-align: right;\n",
       "    }\n",
       "</style>\n",
       "<table border=\"1\" class=\"dataframe\">\n",
       "  <thead>\n",
       "    <tr style=\"text-align: right;\">\n",
       "      <th></th>\n",
       "      <th>A</th>\n",
       "      <th>B</th>\n",
       "      <th>C</th>\n",
       "    </tr>\n",
       "  </thead>\n",
       "  <tbody>\n",
       "    <tr>\n",
       "      <th>3ª linha</th>\n",
       "      <td>3</td>\n",
       "      <td>10</td>\n",
       "      <td>17</td>\n",
       "    </tr>\n",
       "    <tr>\n",
       "      <th>4ª linha</th>\n",
       "      <td>4</td>\n",
       "      <td>11</td>\n",
       "      <td>18</td>\n",
       "    </tr>\n",
       "    <tr>\n",
       "      <th>5ª linha</th>\n",
       "      <td>5</td>\n",
       "      <td>12</td>\n",
       "      <td>19</td>\n",
       "    </tr>\n",
       "    <tr>\n",
       "      <th>6ª linha</th>\n",
       "      <td>6</td>\n",
       "      <td>13</td>\n",
       "      <td>20</td>\n",
       "    </tr>\n",
       "    <tr>\n",
       "      <th>7ª linha</th>\n",
       "      <td>7</td>\n",
       "      <td>14</td>\n",
       "      <td>21</td>\n",
       "    </tr>\n",
       "  </tbody>\n",
       "</table>\n",
       "</div>"
      ],
      "text/plain": [
       "          A   B   C\n",
       "3ª linha  3  10  17\n",
       "4ª linha  4  11  18\n",
       "5ª linha  5  12  19\n",
       "6ª linha  6  13  20\n",
       "7ª linha  7  14  21"
      ]
     },
     "execution_count": 51,
     "metadata": {},
     "output_type": "execute_result"
    }
   ],
   "source": [
    "df.tail() # exibe as quatro primeira linhas do dataframe"
   ]
  },
  {
   "cell_type": "code",
   "execution_count": 52,
   "metadata": {},
   "outputs": [
    {
     "data": {
      "text/html": [
       "<div>\n",
       "<style scoped>\n",
       "    .dataframe tbody tr th:only-of-type {\n",
       "        vertical-align: middle;\n",
       "    }\n",
       "\n",
       "    .dataframe tbody tr th {\n",
       "        vertical-align: top;\n",
       "    }\n",
       "\n",
       "    .dataframe thead th {\n",
       "        text-align: right;\n",
       "    }\n",
       "</style>\n",
       "<table border=\"1\" class=\"dataframe\">\n",
       "  <thead>\n",
       "    <tr style=\"text-align: right;\">\n",
       "      <th></th>\n",
       "      <th>A</th>\n",
       "      <th>B</th>\n",
       "      <th>C</th>\n",
       "    </tr>\n",
       "  </thead>\n",
       "  <tbody>\n",
       "    <tr>\n",
       "      <th>1ª linha</th>\n",
       "      <td>1</td>\n",
       "      <td>8</td>\n",
       "      <td>15</td>\n",
       "    </tr>\n",
       "    <tr>\n",
       "      <th>2ª linha</th>\n",
       "      <td>2</td>\n",
       "      <td>9</td>\n",
       "      <td>16</td>\n",
       "    </tr>\n",
       "    <tr>\n",
       "      <th>3ª linha</th>\n",
       "      <td>3</td>\n",
       "      <td>10</td>\n",
       "      <td>17</td>\n",
       "    </tr>\n",
       "    <tr>\n",
       "      <th>4ª linha</th>\n",
       "      <td>4</td>\n",
       "      <td>11</td>\n",
       "      <td>18</td>\n",
       "    </tr>\n",
       "    <tr>\n",
       "      <th>5ª linha</th>\n",
       "      <td>5</td>\n",
       "      <td>12</td>\n",
       "      <td>19</td>\n",
       "    </tr>\n",
       "    <tr>\n",
       "      <th>6ª linha</th>\n",
       "      <td>6</td>\n",
       "      <td>13</td>\n",
       "      <td>20</td>\n",
       "    </tr>\n",
       "    <tr>\n",
       "      <th>7ª linha</th>\n",
       "      <td>7</td>\n",
       "      <td>14</td>\n",
       "      <td>21</td>\n",
       "    </tr>\n",
       "  </tbody>\n",
       "</table>\n",
       "</div>"
      ],
      "text/plain": [
       "          A   B   C\n",
       "1ª linha  1   8  15\n",
       "2ª linha  2   9  16\n",
       "3ª linha  3  10  17\n",
       "4ª linha  4  11  18\n",
       "5ª linha  5  12  19\n",
       "6ª linha  6  13  20\n",
       "7ª linha  7  14  21"
      ]
     },
     "execution_count": 52,
     "metadata": {},
     "output_type": "execute_result"
    }
   ],
   "source": [
    "df.head(7)"
   ]
  }
 ],
 "metadata": {
  "kernelspec": {
   "display_name": "Python 3",
   "language": "python",
   "name": "python3"
  },
  "language_info": {
   "codemirror_mode": {
    "name": "ipython",
    "version": 3
   },
   "file_extension": ".py",
   "mimetype": "text/x-python",
   "name": "python",
   "nbconvert_exporter": "python",
   "pygments_lexer": "ipython3",
   "version": "3.11.1"
  }
 },
 "nbformat": 4,
 "nbformat_minor": 2
}
