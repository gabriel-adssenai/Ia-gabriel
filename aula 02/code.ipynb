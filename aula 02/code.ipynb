{
 "cells": [
  {
   "cell_type": "code",
   "execution_count": 1,
   "metadata": {},
   "outputs": [],
   "source": [
    "import pandas as pd # importa a biblioteca "
   ]
  },
  {
   "cell_type": "code",
   "execution_count": 10,
   "metadata": {},
   "outputs": [],
   "source": [
    "dicionario_01 = {\n",
    "    'A' :[1,2,3],\n",
    "    'B' :[-32,-21,-15],\n",
    "    'C' :[60,10,20],\n",
    "    'Chave': ['AA', 'BB','CC']\n",
    "\n",
    "}\n",
    "dicionario_02 ={\n",
    "    'A' :[6,7,8],\n",
    "    'B' :[-39,-28,-17],\n",
    "    'C' :[1000,10,60],\n",
    "    'Chave' :['AA', 'BB','CC']\n",
    "\n",
    "}\n",
    "dicionario_03 ={\n",
    "    'A' :[9,10,11],\n",
    "    'B' :[-39,-22,-17],\n",
    "    'C' :[30,10,20],\n",
    "    'Chave' :['AA', 'BB','CC']\n",
    "}\n",
    "# criando os labels para os dataframes\n",
    "label_01 = ['1ªLinha','2ªLinha','3ªLinha']\n",
    "label_02 = ['4ªLinha','5ªLinha','6ªLinha']\n",
    "label_03 = ['7ªLinha','8ªLinha','9ªLinha']"
   ]
  },
  {
   "cell_type": "code",
   "execution_count": 11,
   "metadata": {},
   "outputs": [],
   "source": [
    "# Criando os dataframes\n",
    "df1 = pd.DataFrame(dicionario_01,index=label_01)\n",
    "df2 = pd.DataFrame(dicionario_02,index=label_02)\n",
    "df3 = pd.DataFrame(dicionario_03,index=label_03)"
   ]
  },
  {
   "cell_type": "code",
   "execution_count": 12,
   "metadata": {},
   "outputs": [
    {
     "data": {
      "text/html": [
       "<div>\n",
       "<style scoped>\n",
       "    .dataframe tbody tr th:only-of-type {\n",
       "        vertical-align: middle;\n",
       "    }\n",
       "\n",
       "    .dataframe tbody tr th {\n",
       "        vertical-align: top;\n",
       "    }\n",
       "\n",
       "    .dataframe thead th {\n",
       "        text-align: right;\n",
       "    }\n",
       "</style>\n",
       "<table border=\"1\" class=\"dataframe\">\n",
       "  <thead>\n",
       "    <tr style=\"text-align: right;\">\n",
       "      <th></th>\n",
       "      <th>A</th>\n",
       "      <th>B</th>\n",
       "      <th>C</th>\n",
       "      <th>Chave</th>\n",
       "    </tr>\n",
       "  </thead>\n",
       "  <tbody>\n",
       "    <tr>\n",
       "      <th>1ªLinha</th>\n",
       "      <td>1</td>\n",
       "      <td>-32</td>\n",
       "      <td>60</td>\n",
       "      <td>AA</td>\n",
       "    </tr>\n",
       "    <tr>\n",
       "      <th>2ªLinha</th>\n",
       "      <td>2</td>\n",
       "      <td>-21</td>\n",
       "      <td>10</td>\n",
       "      <td>BB</td>\n",
       "    </tr>\n",
       "    <tr>\n",
       "      <th>3ªLinha</th>\n",
       "      <td>3</td>\n",
       "      <td>-15</td>\n",
       "      <td>20</td>\n",
       "      <td>CC</td>\n",
       "    </tr>\n",
       "  </tbody>\n",
       "</table>\n",
       "</div>"
      ],
      "text/plain": [
       "         A   B   C Chave\n",
       "1ªLinha  1 -32  60    AA\n",
       "2ªLinha  2 -21  10    BB\n",
       "3ªLinha  3 -15  20    CC"
      ]
     },
     "execution_count": 12,
     "metadata": {},
     "output_type": "execute_result"
    }
   ],
   "source": [
    "df1.head() # exibe as 4 primeira linhas do dataframe"
   ]
  },
  {
   "cell_type": "code",
   "execution_count": 13,
   "metadata": {},
   "outputs": [
    {
     "data": {
      "text/html": [
       "<div>\n",
       "<style scoped>\n",
       "    .dataframe tbody tr th:only-of-type {\n",
       "        vertical-align: middle;\n",
       "    }\n",
       "\n",
       "    .dataframe tbody tr th {\n",
       "        vertical-align: top;\n",
       "    }\n",
       "\n",
       "    .dataframe thead th {\n",
       "        text-align: right;\n",
       "    }\n",
       "</style>\n",
       "<table border=\"1\" class=\"dataframe\">\n",
       "  <thead>\n",
       "    <tr style=\"text-align: right;\">\n",
       "      <th></th>\n",
       "      <th>A</th>\n",
       "      <th>B</th>\n",
       "      <th>C</th>\n",
       "      <th>Chave</th>\n",
       "    </tr>\n",
       "  </thead>\n",
       "  <tbody>\n",
       "    <tr>\n",
       "      <th>4ªLinha</th>\n",
       "      <td>6</td>\n",
       "      <td>-39</td>\n",
       "      <td>1000</td>\n",
       "      <td>AA</td>\n",
       "    </tr>\n",
       "    <tr>\n",
       "      <th>5ªLinha</th>\n",
       "      <td>7</td>\n",
       "      <td>-28</td>\n",
       "      <td>10</td>\n",
       "      <td>BB</td>\n",
       "    </tr>\n",
       "    <tr>\n",
       "      <th>6ªLinha</th>\n",
       "      <td>8</td>\n",
       "      <td>-17</td>\n",
       "      <td>60</td>\n",
       "      <td>CC</td>\n",
       "    </tr>\n",
       "  </tbody>\n",
       "</table>\n",
       "</div>"
      ],
      "text/plain": [
       "         A   B     C Chave\n",
       "4ªLinha  6 -39  1000    AA\n",
       "5ªLinha  7 -28    10    BB\n",
       "6ªLinha  8 -17    60    CC"
      ]
     },
     "execution_count": 13,
     "metadata": {},
     "output_type": "execute_result"
    }
   ],
   "source": [
    "df2.head()"
   ]
  },
  {
   "cell_type": "code",
   "execution_count": 14,
   "metadata": {},
   "outputs": [
    {
     "data": {
      "text/html": [
       "<div>\n",
       "<style scoped>\n",
       "    .dataframe tbody tr th:only-of-type {\n",
       "        vertical-align: middle;\n",
       "    }\n",
       "\n",
       "    .dataframe tbody tr th {\n",
       "        vertical-align: top;\n",
       "    }\n",
       "\n",
       "    .dataframe thead th {\n",
       "        text-align: right;\n",
       "    }\n",
       "</style>\n",
       "<table border=\"1\" class=\"dataframe\">\n",
       "  <thead>\n",
       "    <tr style=\"text-align: right;\">\n",
       "      <th></th>\n",
       "      <th>A</th>\n",
       "      <th>B</th>\n",
       "      <th>C</th>\n",
       "      <th>Chave</th>\n",
       "    </tr>\n",
       "  </thead>\n",
       "  <tbody>\n",
       "    <tr>\n",
       "      <th>7ªLinha</th>\n",
       "      <td>9</td>\n",
       "      <td>-39</td>\n",
       "      <td>30</td>\n",
       "      <td>AA</td>\n",
       "    </tr>\n",
       "    <tr>\n",
       "      <th>8ªLinha</th>\n",
       "      <td>10</td>\n",
       "      <td>-22</td>\n",
       "      <td>10</td>\n",
       "      <td>BB</td>\n",
       "    </tr>\n",
       "    <tr>\n",
       "      <th>9ªLinha</th>\n",
       "      <td>11</td>\n",
       "      <td>-17</td>\n",
       "      <td>20</td>\n",
       "      <td>CC</td>\n",
       "    </tr>\n",
       "  </tbody>\n",
       "</table>\n",
       "</div>"
      ],
      "text/plain": [
       "          A   B   C Chave\n",
       "7ªLinha   9 -39  30    AA\n",
       "8ªLinha  10 -22  10    BB\n",
       "9ªLinha  11 -17  20    CC"
      ]
     },
     "execution_count": 14,
     "metadata": {},
     "output_type": "execute_result"
    }
   ],
   "source": [
    "df3.head()"
   ]
  },
  {
   "cell_type": "code",
   "execution_count": 15,
   "metadata": {},
   "outputs": [],
   "source": [
    "# juntando os dataframes utilizando o comando concat\n",
    "# esse comando irá empilhar os dataframes\n",
    "df_n = pd.concat([df1,df2,df3]) # comando para juntar"
   ]
  },
  {
   "cell_type": "code",
   "execution_count": 16,
   "metadata": {},
   "outputs": [
    {
     "data": {
      "text/html": [
       "<div>\n",
       "<style scoped>\n",
       "    .dataframe tbody tr th:only-of-type {\n",
       "        vertical-align: middle;\n",
       "    }\n",
       "\n",
       "    .dataframe tbody tr th {\n",
       "        vertical-align: top;\n",
       "    }\n",
       "\n",
       "    .dataframe thead th {\n",
       "        text-align: right;\n",
       "    }\n",
       "</style>\n",
       "<table border=\"1\" class=\"dataframe\">\n",
       "  <thead>\n",
       "    <tr style=\"text-align: right;\">\n",
       "      <th></th>\n",
       "      <th>A</th>\n",
       "      <th>B</th>\n",
       "      <th>C</th>\n",
       "      <th>Chave</th>\n",
       "    </tr>\n",
       "  </thead>\n",
       "  <tbody>\n",
       "    <tr>\n",
       "      <th>1ªLinha</th>\n",
       "      <td>1</td>\n",
       "      <td>-32</td>\n",
       "      <td>60</td>\n",
       "      <td>AA</td>\n",
       "    </tr>\n",
       "    <tr>\n",
       "      <th>2ªLinha</th>\n",
       "      <td>2</td>\n",
       "      <td>-21</td>\n",
       "      <td>10</td>\n",
       "      <td>BB</td>\n",
       "    </tr>\n",
       "    <tr>\n",
       "      <th>3ªLinha</th>\n",
       "      <td>3</td>\n",
       "      <td>-15</td>\n",
       "      <td>20</td>\n",
       "      <td>CC</td>\n",
       "    </tr>\n",
       "    <tr>\n",
       "      <th>4ªLinha</th>\n",
       "      <td>6</td>\n",
       "      <td>-39</td>\n",
       "      <td>1000</td>\n",
       "      <td>AA</td>\n",
       "    </tr>\n",
       "    <tr>\n",
       "      <th>5ªLinha</th>\n",
       "      <td>7</td>\n",
       "      <td>-28</td>\n",
       "      <td>10</td>\n",
       "      <td>BB</td>\n",
       "    </tr>\n",
       "  </tbody>\n",
       "</table>\n",
       "</div>"
      ],
      "text/plain": [
       "         A   B     C Chave\n",
       "1ªLinha  1 -32    60    AA\n",
       "2ªLinha  2 -21    10    BB\n",
       "3ªLinha  3 -15    20    CC\n",
       "4ªLinha  6 -39  1000    AA\n",
       "5ªLinha  7 -28    10    BB"
      ]
     },
     "execution_count": 16,
     "metadata": {},
     "output_type": "execute_result"
    }
   ],
   "source": [
    "df_n.head()"
   ]
  },
  {
   "cell_type": "code",
   "execution_count": 17,
   "metadata": {},
   "outputs": [],
   "source": [
    "# Une os comandos dataframes com o comando merge\n",
    "# inner verifica se a chave está presente me ambos os lados\n",
    "df_n2 = pd.merge(df1,df2,how='inner', on='Chave')"
   ]
  },
  {
   "cell_type": "code",
   "execution_count": 18,
   "metadata": {},
   "outputs": [
    {
     "data": {
      "text/html": [
       "<div>\n",
       "<style scoped>\n",
       "    .dataframe tbody tr th:only-of-type {\n",
       "        vertical-align: middle;\n",
       "    }\n",
       "\n",
       "    .dataframe tbody tr th {\n",
       "        vertical-align: top;\n",
       "    }\n",
       "\n",
       "    .dataframe thead th {\n",
       "        text-align: right;\n",
       "    }\n",
       "</style>\n",
       "<table border=\"1\" class=\"dataframe\">\n",
       "  <thead>\n",
       "    <tr style=\"text-align: right;\">\n",
       "      <th></th>\n",
       "      <th>A_x</th>\n",
       "      <th>B_x</th>\n",
       "      <th>C_x</th>\n",
       "      <th>Chave</th>\n",
       "      <th>A_y</th>\n",
       "      <th>B_y</th>\n",
       "      <th>C_y</th>\n",
       "    </tr>\n",
       "  </thead>\n",
       "  <tbody>\n",
       "    <tr>\n",
       "      <th>0</th>\n",
       "      <td>1</td>\n",
       "      <td>-32</td>\n",
       "      <td>60</td>\n",
       "      <td>AA</td>\n",
       "      <td>6</td>\n",
       "      <td>-39</td>\n",
       "      <td>1000</td>\n",
       "    </tr>\n",
       "    <tr>\n",
       "      <th>1</th>\n",
       "      <td>2</td>\n",
       "      <td>-21</td>\n",
       "      <td>10</td>\n",
       "      <td>BB</td>\n",
       "      <td>7</td>\n",
       "      <td>-28</td>\n",
       "      <td>10</td>\n",
       "    </tr>\n",
       "    <tr>\n",
       "      <th>2</th>\n",
       "      <td>3</td>\n",
       "      <td>-15</td>\n",
       "      <td>20</td>\n",
       "      <td>CC</td>\n",
       "      <td>8</td>\n",
       "      <td>-17</td>\n",
       "      <td>60</td>\n",
       "    </tr>\n",
       "  </tbody>\n",
       "</table>\n",
       "</div>"
      ],
      "text/plain": [
       "   A_x  B_x  C_x Chave  A_y  B_y   C_y\n",
       "0    1  -32   60    AA    6  -39  1000\n",
       "1    2  -21   10    BB    7  -28    10\n",
       "2    3  -15   20    CC    8  -17    60"
      ]
     },
     "execution_count": 18,
     "metadata": {},
     "output_type": "execute_result"
    }
   ],
   "source": [
    "df_n2.head()"
   ]
  },
  {
   "cell_type": "code",
   "execution_count": 20,
   "metadata": {},
   "outputs": [],
   "source": [
    "df_n3 = pd.merge(df1,df3,how='right', on='Chave')\n"
   ]
  },
  {
   "cell_type": "code",
   "execution_count": 21,
   "metadata": {},
   "outputs": [
    {
     "data": {
      "text/html": [
       "<div>\n",
       "<style scoped>\n",
       "    .dataframe tbody tr th:only-of-type {\n",
       "        vertical-align: middle;\n",
       "    }\n",
       "\n",
       "    .dataframe tbody tr th {\n",
       "        vertical-align: top;\n",
       "    }\n",
       "\n",
       "    .dataframe thead th {\n",
       "        text-align: right;\n",
       "    }\n",
       "</style>\n",
       "<table border=\"1\" class=\"dataframe\">\n",
       "  <thead>\n",
       "    <tr style=\"text-align: right;\">\n",
       "      <th></th>\n",
       "      <th>A_x</th>\n",
       "      <th>B_x</th>\n",
       "      <th>C_x</th>\n",
       "      <th>Chave</th>\n",
       "      <th>A_y</th>\n",
       "      <th>B_y</th>\n",
       "      <th>C_y</th>\n",
       "    </tr>\n",
       "  </thead>\n",
       "  <tbody>\n",
       "    <tr>\n",
       "      <th>0</th>\n",
       "      <td>1</td>\n",
       "      <td>-32</td>\n",
       "      <td>60</td>\n",
       "      <td>AA</td>\n",
       "      <td>9</td>\n",
       "      <td>-39</td>\n",
       "      <td>30</td>\n",
       "    </tr>\n",
       "    <tr>\n",
       "      <th>1</th>\n",
       "      <td>2</td>\n",
       "      <td>-21</td>\n",
       "      <td>10</td>\n",
       "      <td>BB</td>\n",
       "      <td>10</td>\n",
       "      <td>-22</td>\n",
       "      <td>10</td>\n",
       "    </tr>\n",
       "    <tr>\n",
       "      <th>2</th>\n",
       "      <td>3</td>\n",
       "      <td>-15</td>\n",
       "      <td>20</td>\n",
       "      <td>CC</td>\n",
       "      <td>11</td>\n",
       "      <td>-17</td>\n",
       "      <td>20</td>\n",
       "    </tr>\n",
       "  </tbody>\n",
       "</table>\n",
       "</div>"
      ],
      "text/plain": [
       "   A_x  B_x  C_x Chave  A_y  B_y  C_y\n",
       "0    1  -32   60    AA    9  -39   30\n",
       "1    2  -21   10    BB   10  -22   10\n",
       "2    3  -15   20    CC   11  -17   20"
      ]
     },
     "execution_count": 21,
     "metadata": {},
     "output_type": "execute_result"
    }
   ],
   "source": [
    "df_n3.head()"
   ]
  },
  {
   "cell_type": "code",
   "execution_count": null,
   "metadata": {},
   "outputs": [],
   "source": [
    "Dic_01 = {\n",
    "    'A':[1,2,3],\n",
    "    'B':[-32,-21,-15],\n",
    "    'C':[60,10,20]\n",
    "    }\n",
    "Dic_02 ={\n",
    "    'D':[6,7,8],\n",
    "    'E':[-39,-38,-17],\n",
    "    'F':[1000,10,60]\n",
    "}\n",
    "Label_01=['1ªLinha','2ªLinha','3ªLinha'] # cria o label\n",
    "dataframe01 = pd.DataFrame(Dic_01,index=Label_01)\n",
    "dataframe02 = pd.DataFrame(Dic_02,index=Label_01)"
   ]
  },
  {
   "cell_type": "code",
   "execution_count": null,
   "metadata": {},
   "outputs": [],
   "source": [
    "dataframe01.head()"
   ]
  },
  {
   "cell_type": "code",
   "execution_count": null,
   "metadata": {},
   "outputs": [],
   "source": [
    "dataframe02.head()"
   ]
  },
  {
   "cell_type": "code",
   "execution_count": null,
   "metadata": {},
   "outputs": [],
   "source": [
    "dataframe01.join(dataframe02) # junta os dois dataframes com\n",
    "# o comando join"
   ]
  }
 ],
 "metadata": {
  "kernelspec": {
   "display_name": "Python 3",
   "language": "python",
   "name": "python3"
  },
  "language_info": {
   "codemirror_mode": {
    "name": "ipython",
    "version": 3
   },
   "file_extension": ".py",
   "mimetype": "text/x-python",
   "name": "python",
   "nbconvert_exporter": "python",
   "pygments_lexer": "ipython3",
   "version": "3.11.1"
  }
 },
 "nbformat": 4,
 "nbformat_minor": 2
}
