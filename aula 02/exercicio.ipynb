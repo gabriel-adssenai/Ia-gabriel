{
 "cells": [
  {
   "cell_type": "code",
   "execution_count": 1,
   "metadata": {},
   "outputs": [],
   "source": [
    "import pandas as pd # importa a biblioteca "
   ]
  },
  {
   "cell_type": "code",
   "execution_count": 2,
   "metadata": {},
   "outputs": [],
   "source": [
    "dicionario_1= {\n",
    "    'Nome': ['Alice', 'Julia', 'Bruna', 'Daniel', 'Filipe', 'Silvio'],\n",
    "    'Idade': [19, 22, 28, 34, 28, 48],\n",
    "    'Profissão': ['Direito', 'Engenharia', 'Enfermagem', 'Engenheiro Civil', 'Cientista da Computação', 'Engenheiro Eletrônico'],\n",
    "    'ID': [1, 2, 3, 4, 5, 6]\n",
    "}"
   ]
  },
  {
   "cell_type": "code",
   "execution_count": 6,
   "metadata": {},
   "outputs": [
    {
     "name": "stdout",
     "output_type": "stream",
     "text": [
      "   Setor  Produtos Fabricados\n",
      "0      1                   50\n",
      "1      2                   30\n",
      "2      3                   40\n",
      "3      4                  100\n"
     ]
    }
   ],
   "source": [
    "produtos = {\n",
    "    'Setor': [1, 2, 3, 4],\n",
    "    'Produtos Fabricados': [50, 30, 40, 100]\n",
    "}\n",
    "\n",
    "# Criando o DataFrame\n",
    "df = pd.DataFrame(produtos)\n",
    "\n",
    "# Exibindo o DataFrame\n",
    "print(df)"
   ]
  },
  {
   "cell_type": "code",
   "execution_count": 7,
   "metadata": {},
   "outputs": [],
   "source": [
    "funcionarios = {\n",
    "    'ID': [1, 2, 3, 4],\n",
    "    'Nome': ['Ana', 'Pedro', 'Maria', 'João'],\n",
    "    'Setor': ['RH', 'Vendas', 'Administrativo', 'Produção']\n",
    "}\n",
    "\n"
   ]
  },
  {
   "cell_type": "code",
   "execution_count": 8,
   "metadata": {},
   "outputs": [],
   "source": [
    "df_funcionarios = pd.DataFrame(funcionarios)"
   ]
  },
  {
   "cell_type": "code",
   "execution_count": 18,
   "metadata": {},
   "outputs": [],
   "source": [
    "faz_me_rir = {\n",
    "    'ID': [1, 2, 3, 4],\n",
    "    'Salário': [3000, 2800, 3200, 2500]\n",
    "}\n",
    "\n",
    "df_faz_me_rir = pd.DataFrame(faz_me_rir)\n",
    "\n",
    "\n",
    "df_completo = pd.merge(df_funcionarios, df_faz_me_rir, on='ID')\n",
    "\n",
    "\n"
   ]
  },
  {
   "cell_type": "code",
   "execution_count": 11,
   "metadata": {},
   "outputs": [
    {
     "name": "stdout",
     "output_type": "stream",
     "text": [
      "   ID   Nome           Setor  Salário\n",
      "0   1    Ana              RH     3000\n",
      "1   2  Pedro          Vendas     2800\n",
      "2   3  Maria  Administrativo     3200\n",
      "3   4   João        Produção     2500\n"
     ]
    }
   ],
   "source": [
    "print(df_completo)"
   ]
  },
  {
   "cell_type": "code",
   "execution_count": 12,
   "metadata": {},
   "outputs": [],
   "source": [
    "janeiro = {\n",
    "    'Data': ['2023-01-01', '2023-01-02', '2023-01-03'],\n",
    "    'Produto': ['Item A', 'Item B', 'Item A'],\n",
    "    'Quantidade': [10, 5, 8],\n",
    "    'Valor': [100.00, 50.00, 80.00]\n",
    "}"
   ]
  },
  {
   "cell_type": "code",
   "execution_count": 13,
   "metadata": {},
   "outputs": [],
   "source": [
    "df_janeiro = pd.DataFrame(janeiro)"
   ]
  },
  {
   "cell_type": "code",
   "execution_count": 14,
   "metadata": {},
   "outputs": [],
   "source": [
    "fevereiro = {\n",
    "    'Data': ['2023-02-01', '2023-02-02', '2023-02-03'],\n",
    "    'Produto': ['Item C', 'Item B', 'Item D'],\n",
    "    'Quantidade': [12, 6, 3],\n",
    "    'Valor': [120.00, 60.00, 30.00]\n",
    "}\n",
    "\n"
   ]
  },
  {
   "cell_type": "code",
   "execution_count": 16,
   "metadata": {},
   "outputs": [],
   "source": [
    "df_fevereiro = pd.DataFrame(fevereiro)"
   ]
  },
  {
   "cell_type": "code",
   "execution_count": 17,
   "metadata": {},
   "outputs": [
    {
     "name": "stdout",
     "output_type": "stream",
     "text": [
      "         Data Produto  Quantidade  Valor\n",
      "0  2023-01-01  Item A          10  100.0\n",
      "1  2023-01-02  Item B           5   50.0\n",
      "2  2023-01-03  Item A           8   80.0\n",
      "         Data Produto  Quantidade  Valor\n",
      "0  2023-02-01  Item C          12  120.0\n",
      "1  2023-02-02  Item B           6   60.0\n",
      "2  2023-02-03  Item D           3   30.0\n"
     ]
    }
   ],
   "source": [
    "print(df_janeiro)\n",
    "\n",
    "print(df_fevereiro)"
   ]
  }
 ],
 "metadata": {
  "kernelspec": {
   "display_name": "Python 3",
   "language": "python",
   "name": "python3"
  },
  "language_info": {
   "codemirror_mode": {
    "name": "ipython",
    "version": 3
   },
   "file_extension": ".py",
   "mimetype": "text/x-python",
   "name": "python",
   "nbconvert_exporter": "python",
   "pygments_lexer": "ipython3",
   "version": "3.11.1"
  }
 },
 "nbformat": 4,
 "nbformat_minor": 2
}
